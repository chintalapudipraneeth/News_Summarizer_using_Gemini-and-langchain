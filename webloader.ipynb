{
 "cells": [
  {
   "cell_type": "code",
   "execution_count": 1,
   "id": "ce2ef885-0645-4208-8971-e41b01f5f2b9",
   "metadata": {},
   "outputs": [],
   "source": [
    "from langchain_community.document_loaders import WebBaseLoader\n",
    "from langchain.text_splitter import RecursiveCharacterTextSplitter\n",
    "from dotenv import load_dotenv\n",
    "import google.generativeai as genai\n",
    "from langchain_google_genai import GoogleGenerativeAI\n",
    "from langchain.chains.question_answering import load_qa_chain\n",
    "from langchain.prompts import PromptTemplate\n",
    "import os"
   ]
  },
  {
   "cell_type": "code",
   "execution_count": null,
   "metadata": {},
   "outputs": [],
   "source": []
  },
  {
   "cell_type": "code",
   "execution_count": 17,
   "id": "e6400a8d-450d-479e-924a-d807ad528a5d",
   "metadata": {},
   "outputs": [],
   "source": [
    "genai.configure(api_key=os.getenv(\"GOOGLE_API_KEY\"))"
   ]
  },
  {
   "cell_type": "code",
   "execution_count": 5,
   "id": "15e10b59-84d3-45bf-9959-271f8a5ad764",
   "metadata": {},
   "outputs": [],
   "source": [
    "safety_settings_NONE=[\n",
    "    { \"category\": \"HARM_CATEGORY_HARASSMENT\", \"threshold\": \"BLOCK_NONE\" },\n",
    "    { \"category\": \"HARM_CATEGORY_HATE_SPEECH\", \"threshold\": \"BLOCK_NONE\" },\n",
    "    { \"category\": \"HARM_CATEGORY_SEXUALLY_EXPLICIT\", \"threshold\": \"BLOCK_NONE\" },\n",
    "    { \"category\": \"HARM_CATEGORY_DANGEROUS_CONTENT\", \"threshold\": \"BLOCK_NONE\"}\n",
    "]"
   ]
  },
  {
   "cell_type": "code",
   "execution_count": 6,
   "id": "38718ec0-bc61-4f50-8e08-b5cef0196fa5",
   "metadata": {},
   "outputs": [],
   "source": [
    "urls=[\"https://www.hindustantimes.com/india-news/external-affairs-minister-s-jaishankar-on-israel-hamas-war-palestinians-have-been-denied-their-homeland-101711592719874.html\",\"https://www.livemint.com/news/india/arvind-kejriwal-arrest-news-live-updates-delhi-cm-bjp-high-court-hc-ed-arrest-atishi-aap-liquor-policy-money-laundering-11711528865907.html\"]"
   ]
  },
  {
   "cell_type": "code",
   "execution_count": 7,
   "id": "5723298a-af2e-4025-b970-51af700d321c",
   "metadata": {},
   "outputs": [
    {
     "data": {
      "text/plain": [
       "'https://www.hindustantimes.com/india-news/external-affairs-minister-s-jaishankar-on-israel-hamas-war-palestinians-have-been-denied-their-homeland-101711592719874.html'"
      ]
     },
     "execution_count": 7,
     "metadata": {},
     "output_type": "execute_result"
    }
   ],
   "source": [
    "urls[0]"
   ]
  },
  {
   "cell_type": "code",
   "execution_count": 8,
   "metadata": {},
   "outputs": [],
   "source": [
    "def split_docs(documents, chunk_size=1000, chunk_overlap=100):\n",
    "  text_splitter = RecursiveCharacterTextSplitter(chunk_size=chunk_size, chunk_overlap=chunk_overlap)\n",
    "  docs = text_splitter.split_documents(documents)\n",
    "  return docs"
   ]
  },
  {
   "cell_type": "code",
   "execution_count": 9,
   "id": "da635693-a795-47e8-bacc-000b6402059c",
   "metadata": {},
   "outputs": [],
   "source": [
    "def preprocess(urls):\n",
    "    loader = WebBaseLoader(urls)\n",
    "    documents=loader.load()\n",
    "    text_splitter = RecursiveCharacterTextSplitter(chunk_size=2000, chunk_overlap=2000)\n",
    "    docs = text_splitter.split_documents(documents)\n",
    "    docs = split_docs(documents)\n",
    "    return docs"
   ]
  },
  {
   "cell_type": "code",
   "execution_count": 10,
   "id": "7468d1f4-8f5e-44f7-aaf1-9dde4c1d3888",
   "metadata": {},
   "outputs": [
    {
     "name": "stdout",
     "output_type": "stream",
     "text": [
      "15\n"
     ]
    }
   ],
   "source": [
    "documents=preprocess(urls[0])\n",
    "docs = split_docs(documents)\n",
    "print(len(docs))"
   ]
  },
  {
   "cell_type": "code",
   "execution_count": 11,
   "id": "e3599059-6ccf-47a3-b4da-2aee06ad6b28",
   "metadata": {},
   "outputs": [],
   "source": [
    "llm = GoogleGenerativeAI(model=\"gemini-pro\",convert_system_message_to_human=True)\n",
    "llm.client = genai.GenerativeModel(model_name='gemini-pro', safety_settings=safety_settings_NONE)"
   ]
  },
  {
   "cell_type": "code",
   "execution_count": null,
   "metadata": {},
   "outputs": [],
   "source": []
  },
  {
   "cell_type": "code",
   "execution_count": 13,
   "id": "a9e56e9f-b440-4e13-a395-e79841362bbd",
   "metadata": {},
   "outputs": [],
   "source": [
    "\n",
    "def user_input(user_question):\n",
    "\n",
    "    prompt_template = \"\"\"\n",
    "    Answer the question as detailed as possible from the provided context, make sure to provide all the details, if the answer is not in\n",
    "    provided context just say, \"answer is not available in the context\", don't provide the wrong answer\\n\\n\n",
    "    Context:\\n {context}?\\n\n",
    "    Question: \\n{question}\\n\n",
    "\n",
    "    Answer:\n",
    "    \"\"\"\n",
    "    prompt = PromptTemplate(template = prompt_template, input_variables = [\"context\", \"question\"])\n",
    "    chain = load_qa_chain(llm, chain_type=\"stuff\", prompt=prompt)\n",
    "    response = chain(\n",
    "    {\"input_documents\":docs, \"question\": user_question}\n",
    "    , return_only_outputs=True)\n",
    "\n",
    "    print(response)"
   ]
  },
  {
   "cell_type": "code",
   "execution_count": 16,
   "id": "9c7a5501-f283-404d-8d09-2ebc1187bb8c",
   "metadata": {},
   "outputs": [
    {
     "name": "stdout",
     "output_type": "stream",
     "text": [
      "{'output_text': 'According to the context provided, External affairs minister S Jaishankar has expressed concern over the death of civilians in the ongoing Israel-Hamas war stating that Palestinians have been denied their homeland. He also urged Israel to cater to international humanitarian law in its ongoing retaliation after the deadly October 7 attack by Hamas. However, S Jaishankar acknowledged that the October 7 attack was “terrorism”.'}\n"
     ]
    }
   ],
   "source": [
    "user_input(\"News about jaishankar\")"
   ]
  },
  {
   "cell_type": "code",
   "execution_count": 15,
   "id": "7f22208c-3845-4765-b5b9-6e1e6eb4a25d",
   "metadata": {},
   "outputs": [
    {
     "name": "stdout",
     "output_type": "stream",
     "text": [
      "{'output_text': \"External affairs minister S Jaishankar expressed concern over the death of civilians in the ongoing Israel-Hamas war. He also urged Israel to cater to international humanitarian law in its ongoing retaliation after the deadly October 7 attack by Hamas. However, S Jaishankar acknowledged that the October 7 attack was “terrorism”. India has continued to support the 'two-state solution' to the long-running Israel-Palestine conflict.\"}\n"
     ]
    }
   ],
   "source": [
    "user_input(\"summarize the News\")"
   ]
  },
  {
   "cell_type": "code",
   "execution_count": null,
   "id": "cd0a4333-ddbb-412f-9ffb-30806f6947a7",
   "metadata": {},
   "outputs": [],
   "source": []
  },
  {
   "cell_type": "code",
   "execution_count": null,
   "id": "85a29c31-5d46-44ed-b61c-0540cbdc0480",
   "metadata": {},
   "outputs": [],
   "source": []
  },
  {
   "cell_type": "code",
   "execution_count": null,
   "id": "f4552e8e-6d59-4e44-981d-8856ae1b4ab0",
   "metadata": {},
   "outputs": [],
   "source": []
  }
 ],
 "metadata": {
  "kernelspec": {
   "display_name": "base",
   "language": "python",
   "name": "python3"
  },
  "language_info": {
   "codemirror_mode": {
    "name": "ipython",
    "version": 3
   },
   "file_extension": ".py",
   "mimetype": "text/x-python",
   "name": "python",
   "nbconvert_exporter": "python",
   "pygments_lexer": "ipython3",
   "version": "3.11.7"
  }
 },
 "nbformat": 4,
 "nbformat_minor": 5
}
